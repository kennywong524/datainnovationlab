{
  "nbformat": 4,
  "nbformat_minor": 0,
  "metadata": {
    "colab": {
      "provenance": []
    },
    "kernelspec": {
      "name": "python3",
      "display_name": "Python 3"
    },
    "language_info": {
      "name": "python"
    }
  },
  "cells": [
    {
      "cell_type": "markdown",
      "source": [
        "# Logistic Regression on Comment Classification"
      ],
      "metadata": {
        "id": "nhDQOwh7eLlr"
      }
    },
    {
      "cell_type": "code",
      "source": [
        "import pandas as pd\n",
        "import numpy as np\n",
        "import matplotlib.pyplot as plt\n",
        "import seaborn as sns\n",
        "\n",
        "file_path = 'Kenny_claudeclassification.csv'\n",
        "df = pd.read_csv(file_path)\n",
        "\n",
        "# Display the first few rows of the dataset to understand its structure\n",
        "df.head()\n"
      ],
      "metadata": {
        "colab": {
          "base_uri": "https://localhost:8080/",
          "height": 206
        },
        "id": "FhQ-uWJdeLD1",
        "outputId": "281d9534-1a68-4aca-a8a0-b8af93ad8e19"
      },
      "execution_count": 1,
      "outputs": [
        {
          "output_type": "execute_result",
          "data": {
            "text/plain": [
              "         id                                          comment  new  technical  \\\n",
              "0  44894774                New road construction in progress    1          0   \n",
              "1  44914065                                      Added house    1          0   \n",
              "2  44967243                    (node) - added [tag=website]}    1          0   \n",
              "3  45147457  Aligning or naming imported tiger roads #to-fix    0          1   \n",
              "4  45147673                                highways modified    0          0   \n",
              "\n",
              "   local  correctional  \n",
              "0    1.0           0.0  \n",
              "1    0.0           0.0  \n",
              "2    0.0           0.0  \n",
              "3    0.0           1.0  \n",
              "4    0.0           1.0  "
            ],
            "text/html": [
              "\n",
              "  <div id=\"df-a59893b8-7301-4ec3-92c0-5aa071807fef\" class=\"colab-df-container\">\n",
              "    <div>\n",
              "<style scoped>\n",
              "    .dataframe tbody tr th:only-of-type {\n",
              "        vertical-align: middle;\n",
              "    }\n",
              "\n",
              "    .dataframe tbody tr th {\n",
              "        vertical-align: top;\n",
              "    }\n",
              "\n",
              "    .dataframe thead th {\n",
              "        text-align: right;\n",
              "    }\n",
              "</style>\n",
              "<table border=\"1\" class=\"dataframe\">\n",
              "  <thead>\n",
              "    <tr style=\"text-align: right;\">\n",
              "      <th></th>\n",
              "      <th>id</th>\n",
              "      <th>comment</th>\n",
              "      <th>new</th>\n",
              "      <th>technical</th>\n",
              "      <th>local</th>\n",
              "      <th>correctional</th>\n",
              "    </tr>\n",
              "  </thead>\n",
              "  <tbody>\n",
              "    <tr>\n",
              "      <th>0</th>\n",
              "      <td>44894774</td>\n",
              "      <td>New road construction in progress</td>\n",
              "      <td>1</td>\n",
              "      <td>0</td>\n",
              "      <td>1.0</td>\n",
              "      <td>0.0</td>\n",
              "    </tr>\n",
              "    <tr>\n",
              "      <th>1</th>\n",
              "      <td>44914065</td>\n",
              "      <td>Added house</td>\n",
              "      <td>1</td>\n",
              "      <td>0</td>\n",
              "      <td>0.0</td>\n",
              "      <td>0.0</td>\n",
              "    </tr>\n",
              "    <tr>\n",
              "      <th>2</th>\n",
              "      <td>44967243</td>\n",
              "      <td>(node) - added [tag=website]}</td>\n",
              "      <td>1</td>\n",
              "      <td>0</td>\n",
              "      <td>0.0</td>\n",
              "      <td>0.0</td>\n",
              "    </tr>\n",
              "    <tr>\n",
              "      <th>3</th>\n",
              "      <td>45147457</td>\n",
              "      <td>Aligning or naming imported tiger roads #to-fix</td>\n",
              "      <td>0</td>\n",
              "      <td>1</td>\n",
              "      <td>0.0</td>\n",
              "      <td>1.0</td>\n",
              "    </tr>\n",
              "    <tr>\n",
              "      <th>4</th>\n",
              "      <td>45147673</td>\n",
              "      <td>highways modified</td>\n",
              "      <td>0</td>\n",
              "      <td>0</td>\n",
              "      <td>0.0</td>\n",
              "      <td>1.0</td>\n",
              "    </tr>\n",
              "  </tbody>\n",
              "</table>\n",
              "</div>\n",
              "    <div class=\"colab-df-buttons\">\n",
              "\n",
              "  <div class=\"colab-df-container\">\n",
              "    <button class=\"colab-df-convert\" onclick=\"convertToInteractive('df-a59893b8-7301-4ec3-92c0-5aa071807fef')\"\n",
              "            title=\"Convert this dataframe to an interactive table.\"\n",
              "            style=\"display:none;\">\n",
              "\n",
              "  <svg xmlns=\"http://www.w3.org/2000/svg\" height=\"24px\" viewBox=\"0 -960 960 960\">\n",
              "    <path d=\"M120-120v-720h720v720H120Zm60-500h600v-160H180v160Zm220 220h160v-160H400v160Zm0 220h160v-160H400v160ZM180-400h160v-160H180v160Zm440 0h160v-160H620v160ZM180-180h160v-160H180v160Zm440 0h160v-160H620v160Z\"/>\n",
              "  </svg>\n",
              "    </button>\n",
              "\n",
              "  <style>\n",
              "    .colab-df-container {\n",
              "      display:flex;\n",
              "      gap: 12px;\n",
              "    }\n",
              "\n",
              "    .colab-df-convert {\n",
              "      background-color: #E8F0FE;\n",
              "      border: none;\n",
              "      border-radius: 50%;\n",
              "      cursor: pointer;\n",
              "      display: none;\n",
              "      fill: #1967D2;\n",
              "      height: 32px;\n",
              "      padding: 0 0 0 0;\n",
              "      width: 32px;\n",
              "    }\n",
              "\n",
              "    .colab-df-convert:hover {\n",
              "      background-color: #E2EBFA;\n",
              "      box-shadow: 0px 1px 2px rgba(60, 64, 67, 0.3), 0px 1px 3px 1px rgba(60, 64, 67, 0.15);\n",
              "      fill: #174EA6;\n",
              "    }\n",
              "\n",
              "    .colab-df-buttons div {\n",
              "      margin-bottom: 4px;\n",
              "    }\n",
              "\n",
              "    [theme=dark] .colab-df-convert {\n",
              "      background-color: #3B4455;\n",
              "      fill: #D2E3FC;\n",
              "    }\n",
              "\n",
              "    [theme=dark] .colab-df-convert:hover {\n",
              "      background-color: #434B5C;\n",
              "      box-shadow: 0px 1px 3px 1px rgba(0, 0, 0, 0.15);\n",
              "      filter: drop-shadow(0px 1px 2px rgba(0, 0, 0, 0.3));\n",
              "      fill: #FFFFFF;\n",
              "    }\n",
              "  </style>\n",
              "\n",
              "    <script>\n",
              "      const buttonEl =\n",
              "        document.querySelector('#df-a59893b8-7301-4ec3-92c0-5aa071807fef button.colab-df-convert');\n",
              "      buttonEl.style.display =\n",
              "        google.colab.kernel.accessAllowed ? 'block' : 'none';\n",
              "\n",
              "      async function convertToInteractive(key) {\n",
              "        const element = document.querySelector('#df-a59893b8-7301-4ec3-92c0-5aa071807fef');\n",
              "        const dataTable =\n",
              "          await google.colab.kernel.invokeFunction('convertToInteractive',\n",
              "                                                    [key], {});\n",
              "        if (!dataTable) return;\n",
              "\n",
              "        const docLinkHtml = 'Like what you see? Visit the ' +\n",
              "          '<a target=\"_blank\" href=https://colab.research.google.com/notebooks/data_table.ipynb>data table notebook</a>'\n",
              "          + ' to learn more about interactive tables.';\n",
              "        element.innerHTML = '';\n",
              "        dataTable['output_type'] = 'display_data';\n",
              "        await google.colab.output.renderOutput(dataTable, element);\n",
              "        const docLink = document.createElement('div');\n",
              "        docLink.innerHTML = docLinkHtml;\n",
              "        element.appendChild(docLink);\n",
              "      }\n",
              "    </script>\n",
              "  </div>\n",
              "\n",
              "\n",
              "<div id=\"df-95b5ded7-272d-4d3b-9337-fb649262c459\">\n",
              "  <button class=\"colab-df-quickchart\" onclick=\"quickchart('df-95b5ded7-272d-4d3b-9337-fb649262c459')\"\n",
              "            title=\"Suggest charts\"\n",
              "            style=\"display:none;\">\n",
              "\n",
              "<svg xmlns=\"http://www.w3.org/2000/svg\" height=\"24px\"viewBox=\"0 0 24 24\"\n",
              "     width=\"24px\">\n",
              "    <g>\n",
              "        <path d=\"M19 3H5c-1.1 0-2 .9-2 2v14c0 1.1.9 2 2 2h14c1.1 0 2-.9 2-2V5c0-1.1-.9-2-2-2zM9 17H7v-7h2v7zm4 0h-2V7h2v10zm4 0h-2v-4h2v4z\"/>\n",
              "    </g>\n",
              "</svg>\n",
              "  </button>\n",
              "\n",
              "<style>\n",
              "  .colab-df-quickchart {\n",
              "      --bg-color: #E8F0FE;\n",
              "      --fill-color: #1967D2;\n",
              "      --hover-bg-color: #E2EBFA;\n",
              "      --hover-fill-color: #174EA6;\n",
              "      --disabled-fill-color: #AAA;\n",
              "      --disabled-bg-color: #DDD;\n",
              "  }\n",
              "\n",
              "  [theme=dark] .colab-df-quickchart {\n",
              "      --bg-color: #3B4455;\n",
              "      --fill-color: #D2E3FC;\n",
              "      --hover-bg-color: #434B5C;\n",
              "      --hover-fill-color: #FFFFFF;\n",
              "      --disabled-bg-color: #3B4455;\n",
              "      --disabled-fill-color: #666;\n",
              "  }\n",
              "\n",
              "  .colab-df-quickchart {\n",
              "    background-color: var(--bg-color);\n",
              "    border: none;\n",
              "    border-radius: 50%;\n",
              "    cursor: pointer;\n",
              "    display: none;\n",
              "    fill: var(--fill-color);\n",
              "    height: 32px;\n",
              "    padding: 0;\n",
              "    width: 32px;\n",
              "  }\n",
              "\n",
              "  .colab-df-quickchart:hover {\n",
              "    background-color: var(--hover-bg-color);\n",
              "    box-shadow: 0 1px 2px rgba(60, 64, 67, 0.3), 0 1px 3px 1px rgba(60, 64, 67, 0.15);\n",
              "    fill: var(--button-hover-fill-color);\n",
              "  }\n",
              "\n",
              "  .colab-df-quickchart-complete:disabled,\n",
              "  .colab-df-quickchart-complete:disabled:hover {\n",
              "    background-color: var(--disabled-bg-color);\n",
              "    fill: var(--disabled-fill-color);\n",
              "    box-shadow: none;\n",
              "  }\n",
              "\n",
              "  .colab-df-spinner {\n",
              "    border: 2px solid var(--fill-color);\n",
              "    border-color: transparent;\n",
              "    border-bottom-color: var(--fill-color);\n",
              "    animation:\n",
              "      spin 1s steps(1) infinite;\n",
              "  }\n",
              "\n",
              "  @keyframes spin {\n",
              "    0% {\n",
              "      border-color: transparent;\n",
              "      border-bottom-color: var(--fill-color);\n",
              "      border-left-color: var(--fill-color);\n",
              "    }\n",
              "    20% {\n",
              "      border-color: transparent;\n",
              "      border-left-color: var(--fill-color);\n",
              "      border-top-color: var(--fill-color);\n",
              "    }\n",
              "    30% {\n",
              "      border-color: transparent;\n",
              "      border-left-color: var(--fill-color);\n",
              "      border-top-color: var(--fill-color);\n",
              "      border-right-color: var(--fill-color);\n",
              "    }\n",
              "    40% {\n",
              "      border-color: transparent;\n",
              "      border-right-color: var(--fill-color);\n",
              "      border-top-color: var(--fill-color);\n",
              "    }\n",
              "    60% {\n",
              "      border-color: transparent;\n",
              "      border-right-color: var(--fill-color);\n",
              "    }\n",
              "    80% {\n",
              "      border-color: transparent;\n",
              "      border-right-color: var(--fill-color);\n",
              "      border-bottom-color: var(--fill-color);\n",
              "    }\n",
              "    90% {\n",
              "      border-color: transparent;\n",
              "      border-bottom-color: var(--fill-color);\n",
              "    }\n",
              "  }\n",
              "</style>\n",
              "\n",
              "  <script>\n",
              "    async function quickchart(key) {\n",
              "      const quickchartButtonEl =\n",
              "        document.querySelector('#' + key + ' button');\n",
              "      quickchartButtonEl.disabled = true;  // To prevent multiple clicks.\n",
              "      quickchartButtonEl.classList.add('colab-df-spinner');\n",
              "      try {\n",
              "        const charts = await google.colab.kernel.invokeFunction(\n",
              "            'suggestCharts', [key], {});\n",
              "      } catch (error) {\n",
              "        console.error('Error during call to suggestCharts:', error);\n",
              "      }\n",
              "      quickchartButtonEl.classList.remove('colab-df-spinner');\n",
              "      quickchartButtonEl.classList.add('colab-df-quickchart-complete');\n",
              "    }\n",
              "    (() => {\n",
              "      let quickchartButtonEl =\n",
              "        document.querySelector('#df-95b5ded7-272d-4d3b-9337-fb649262c459 button');\n",
              "      quickchartButtonEl.style.display =\n",
              "        google.colab.kernel.accessAllowed ? 'block' : 'none';\n",
              "    })();\n",
              "  </script>\n",
              "</div>\n",
              "\n",
              "    </div>\n",
              "  </div>\n"
            ],
            "application/vnd.google.colaboratory.intrinsic+json": {
              "type": "dataframe",
              "variable_name": "df",
              "summary": "{\n  \"name\": \"df\",\n  \"rows\": 2269,\n  \"fields\": [\n    {\n      \"column\": \"id\",\n      \"properties\": {\n        \"dtype\": \"number\",\n        \"std\": 23485604,\n        \"min\": 44894774,\n        \"max\": 139249542,\n        \"num_unique_values\": 2263,\n        \"samples\": [\n          105749323,\n          95575420,\n          68136924\n        ],\n        \"semantic_type\": \"\",\n        \"description\": \"\"\n      }\n    },\n    {\n      \"column\": \"comment\",\n      \"properties\": {\n        \"dtype\": \"string\",\n        \"num_unique_values\": 1680,\n        \"samples\": [\n          \"https://wiki.openstreetmap.org/wiki/Mapping_Emergency_Medical_Services_in_Austria_(and_beyond)\",\n          \"added driveway to Family Road\",\n          \"fixing crossing highways.\"\n        ],\n        \"semantic_type\": \"\",\n        \"description\": \"\"\n      }\n    },\n    {\n      \"column\": \"new\",\n      \"properties\": {\n        \"dtype\": \"number\",\n        \"std\": 0,\n        \"min\": 0,\n        \"max\": 1,\n        \"num_unique_values\": 2,\n        \"samples\": [\n          0,\n          1\n        ],\n        \"semantic_type\": \"\",\n        \"description\": \"\"\n      }\n    },\n    {\n      \"column\": \"technical\",\n      \"properties\": {\n        \"dtype\": \"number\",\n        \"std\": 0,\n        \"min\": 0,\n        \"max\": 1,\n        \"num_unique_values\": 2,\n        \"samples\": [\n          1,\n          0\n        ],\n        \"semantic_type\": \"\",\n        \"description\": \"\"\n      }\n    },\n    {\n      \"column\": \"local\",\n      \"properties\": {\n        \"dtype\": \"number\",\n        \"std\": 0.32751276336746554,\n        \"min\": 0.0,\n        \"max\": 1.0,\n        \"num_unique_values\": 2,\n        \"samples\": [\n          0.0,\n          1.0\n        ],\n        \"semantic_type\": \"\",\n        \"description\": \"\"\n      }\n    },\n    {\n      \"column\": \"correctional\",\n      \"properties\": {\n        \"dtype\": \"number\",\n        \"std\": 0.47233388361265716,\n        \"min\": 0.0,\n        \"max\": 1.0,\n        \"num_unique_values\": 2,\n        \"samples\": [\n          1.0,\n          0.0\n        ],\n        \"semantic_type\": \"\",\n        \"description\": \"\"\n      }\n    }\n  ]\n}"
            }
          },
          "metadata": {},
          "execution_count": 1
        }
      ]
    },
    {
      "cell_type": "markdown",
      "source": [
        "We use Logistic Regression and One Rest Classifier since it's simple, fast, and works well for text classification with a binary or multi-label setup.\n",
        "\n",
        "Use a One-vs-Rest (OvR) approach to train separate classifiers for each category (New, Technical, Local, Correctional)."
      ],
      "metadata": {
        "id": "5b_iHYkIfRer"
      }
    },
    {
      "cell_type": "code",
      "execution_count": 4,
      "metadata": {
        "colab": {
          "base_uri": "https://localhost:8080/"
        },
        "id": "2KTo0jWrbW6T",
        "outputId": "cbf02295-41db-4d0b-dde8-df6354855b64"
      },
      "outputs": [
        {
          "output_type": "stream",
          "name": "stdout",
          "text": [
            "              precision    recall  f1-score   support\n",
            "\n",
            "         new       0.92      0.95      0.93       486\n",
            "   technical       0.87      0.79      0.83       254\n",
            "       local       0.68      0.15      0.24        88\n",
            "correctional       0.90      0.78      0.84       227\n",
            "\n",
            "   micro avg       0.90      0.81      0.85      1055\n",
            "   macro avg       0.85      0.67      0.71      1055\n",
            "weighted avg       0.89      0.81      0.83      1055\n",
            " samples avg       0.90      0.86      0.86      1055\n",
            "\n"
          ]
        },
        {
          "output_type": "stream",
          "name": "stderr",
          "text": [
            "/usr/local/lib/python3.10/dist-packages/sklearn/metrics/_classification.py:1531: UndefinedMetricWarning: Precision is ill-defined and being set to 0.0 in samples with no predicted labels. Use `zero_division` parameter to control this behavior.\n",
            "  _warn_prf(average, modifier, f\"{metric.capitalize()} is\", len(result))\n"
          ]
        }
      ],
      "source": [
        "from sklearn.linear_model import LogisticRegression\n",
        "from sklearn.multiclass import OneVsRestClassifier\n",
        "from sklearn.metrics import classification_report\n",
        "from sklearn.feature_extraction.text import TfidfVectorizer\n",
        "from sklearn.model_selection import train_test_split\n",
        "\n",
        "# Clean the data by dropping rows with NaN values in the target columns\n",
        "df_cleaned = df.dropna(subset=['new', 'technical', 'local', 'correctional'])\n",
        "\n",
        "# Split data into features and labels\n",
        "X = df_cleaned['comment']\n",
        "y = df_cleaned[['new', 'technical', 'local', 'correctional']]\n",
        "\n",
        "# Train-test split\n",
        "X_train, X_test, y_train, y_test = train_test_split(X, y, test_size=0.3, random_state=42)\n",
        "\n",
        "# TF-IDF Vectorization\n",
        "tfidf = TfidfVectorizer(max_features=5000)\n",
        "X_train_tfidf = tfidf.fit_transform(X_train)\n",
        "X_test_tfidf = tfidf.transform(X_test)\n",
        "\n",
        "# Initialize Logistic Regression with One-vs-Rest approach\n",
        "log_reg_ovr = OneVsRestClassifier(LogisticRegression(max_iter=1000))\n",
        "\n",
        "# Train the model\n",
        "log_reg_ovr.fit(X_train_tfidf, y_train)\n",
        "\n",
        "# Predict on the test set\n",
        "log_reg_ovr_preds = log_reg_ovr.predict(X_test_tfidf)\n",
        "\n",
        "# Generate classification report\n",
        "log_reg_ovr_report = classification_report(y_test, log_reg_ovr_preds, target_names=y.columns)\n",
        "\n",
        "# Display the classification report\n",
        "print(log_reg_ovr_report)"
      ]
    },
    {
      "cell_type": "markdown",
      "source": [
        "## Model peformance\n",
        "- New Category: The model performs well in identifying new additions, with high precision and recall.\n",
        "- Technical Category:  Good performance, capturing most technical comments accurately.\n",
        "- Local Category: The model struggles to recall Local comments, leading to a low F1-score. This suggests that distinguishing local information might require more context or additional features.\n",
        "- Correctional Category: The model performs fairly well in identifying correctional comments but shows slightly lower recall compared to the New category.\n",
        "\n",
        "Overall, LogReg has high accuracy in identifying New and Technical knowledge types. But there are challenges in detecting Local category edits, likely due to its contextual nature, which may be harder to capture through basic text features alone.\n",
        "\n",
        "Let's try expanding TF-IDF Features with N-grams: Local information might be better captured with phrase-based features (e.g., \"local business,\" \"road name,\" \"street update\"). We can use bi-grams (or tri-grams) in the TF-IDF vectorizer to capture phrases rather than individual words."
      ],
      "metadata": {
        "id": "3xTWW8aYf9RN"
      }
    },
    {
      "cell_type": "code",
      "source": [
        "from sklearn.model_selection import GridSearchCV\n",
        "\n",
        "# 1. Update TF-IDF Vectorizer with n-grams\n",
        "tfidf = TfidfVectorizer(max_features=5000, ngram_range=(1, 2))  # Using unigrams and bigrams\n",
        "X_train_tfidf = tfidf.fit_transform(X_train)\n",
        "X_test_tfidf = tfidf.transform(X_test)\n",
        "\n",
        "# Set up Logistic Regression with balanced class weights\n",
        "log_reg = LogisticRegression(max_iter=1000, class_weight='balanced')  # Automatically balances each binary class\n",
        "\n",
        "# One-vs-Rest classifier with balanced Logistic Regression\n",
        "log_reg_ovr = OneVsRestClassifier(log_reg)\n",
        "\n",
        "# Train the model with the modified TF-IDF and balanced class weights\n",
        "log_reg_ovr.fit(X_train_tfidf, y_train)\n",
        "\n",
        "# Predict on the test set\n",
        "log_reg_ovr_preds = log_reg_ovr.predict(X_test_tfidf)\n",
        "\n",
        "# Generate and display the classification report\n",
        "log_reg_ovr_report = classification_report(y_test, log_reg_ovr_preds, target_names=y.columns)\n",
        "print(\"Updated Logistic Regression Classification Report with N-grams and Balanced Class Weights:\\n\", log_reg_ovr_report)"
      ],
      "metadata": {
        "colab": {
          "base_uri": "https://localhost:8080/"
        },
        "id": "yzzxnpcbfl37",
        "outputId": "3eb37897-3e7e-4895-def4-d38420584f8a"
      },
      "execution_count": 6,
      "outputs": [
        {
          "output_type": "stream",
          "name": "stdout",
          "text": [
            "Updated Logistic Regression Classification Report with N-grams and Balanced Class Weights:\n",
            "               precision    recall  f1-score   support\n",
            "\n",
            "         new       0.94      0.90      0.92       486\n",
            "   technical       0.82      0.81      0.82       254\n",
            "       local       0.45      0.49      0.47        88\n",
            "correctional       0.80      0.88      0.83       227\n",
            "\n",
            "   micro avg       0.83      0.84      0.84      1055\n",
            "   macro avg       0.75      0.77      0.76      1055\n",
            "weighted avg       0.84      0.84      0.84      1055\n",
            " samples avg       0.86      0.87      0.85      1055\n",
            "\n"
          ]
        },
        {
          "output_type": "stream",
          "name": "stderr",
          "text": [
            "/usr/local/lib/python3.10/dist-packages/sklearn/metrics/_classification.py:1531: UndefinedMetricWarning: Precision is ill-defined and being set to 0.0 in samples with no predicted labels. Use `zero_division` parameter to control this behavior.\n",
            "  _warn_prf(average, modifier, f\"{metric.capitalize()} is\", len(result))\n"
          ]
        }
      ]
    },
    {
      "cell_type": "markdown",
      "source": [
        "We can see that with class weighting, the model assigns more importance to underrepresented classes, like Local in this case. This means it will be more sensitive to examples from this class, increasing the likelihood that it correctly identifies them.\n",
        "\n",
        "This improves recall because the model is more likely to predict the underrepresented class (even at the expense of precision). For example, the model might identify more comments as Local, even if some are borderline cases. But the precision is lower in this case.\n"
      ],
      "metadata": {
        "id": "0bCwly2tg6y5"
      }
    },
    {
      "cell_type": "markdown",
      "source": [
        "# Random Forest"
      ],
      "metadata": {
        "id": "rSSr18PehDaI"
      }
    },
    {
      "cell_type": "code",
      "source": [
        "from sklearn.ensemble import RandomForestClassifier\n",
        "\n",
        "# Initialize Random Forest with One-vs-Rest approach\n",
        "rf_model = OneVsRestClassifier(RandomForestClassifier(n_estimators=100, class_weight=\"balanced\", random_state=42))\n",
        "\n",
        "# Train the model\n",
        "rf_model.fit(X_train_tfidf, y_train)\n",
        "\n",
        "# Predict on the test set\n",
        "rf_preds = rf_model.predict(X_test_tfidf)\n",
        "\n",
        "# Generate and display the classification report\n",
        "rf_report = classification_report(y_test, rf_preds, target_names=y.columns)\n",
        "print(\"Random Forest Classification Report with Class Weights:\\n\", rf_report)\n"
      ],
      "metadata": {
        "colab": {
          "base_uri": "https://localhost:8080/"
        },
        "id": "QKIaE9WThCyj",
        "outputId": "5ab13cc2-a56c-4884-aca0-fdf0448d78a9"
      },
      "execution_count": 7,
      "outputs": [
        {
          "output_type": "stream",
          "name": "stdout",
          "text": [
            "Random Forest Classification Report with Class Weights:\n",
            "               precision    recall  f1-score   support\n",
            "\n",
            "         new       0.94      0.91      0.92       486\n",
            "   technical       0.88      0.76      0.82       254\n",
            "       local       0.65      0.17      0.27        88\n",
            "correctional       0.86      0.81      0.83       227\n",
            "\n",
            "   micro avg       0.90      0.79      0.84      1055\n",
            "   macro avg       0.83      0.66      0.71      1055\n",
            "weighted avg       0.89      0.79      0.82      1055\n",
            " samples avg       0.89      0.84      0.85      1055\n",
            "\n"
          ]
        },
        {
          "output_type": "stream",
          "name": "stderr",
          "text": [
            "/usr/local/lib/python3.10/dist-packages/sklearn/metrics/_classification.py:1531: UndefinedMetricWarning: Precision is ill-defined and being set to 0.0 in samples with no predicted labels. Use `zero_division` parameter to control this behavior.\n",
            "  _warn_prf(average, modifier, f\"{metric.capitalize()} is\", len(result))\n"
          ]
        }
      ]
    },
    {
      "cell_type": "markdown",
      "source": [
        "The Random Forest model performs well for New, Technical, and Correctional categories, with high precision and recall. Despite class weighting, recall for Local remains low (0.29), although precision for this category improved.\n",
        "\n",
        "Random Forest generally performs well, but like Logistic Regression, it has difficulty with the Local category, possibly due to the nature of the class or the data distribution.\n",
        "\n"
      ],
      "metadata": {
        "id": "JBKgb-28hbLJ"
      }
    },
    {
      "cell_type": "code",
      "source": [],
      "metadata": {
        "id": "UIizcGx9hWy6"
      },
      "execution_count": null,
      "outputs": []
    }
  ]
}